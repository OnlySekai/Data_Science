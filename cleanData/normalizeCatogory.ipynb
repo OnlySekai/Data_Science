{
 "cells": [
  {
   "cell_type": "code",
   "execution_count": null,
   "metadata": {},
   "outputs": [],
   "source": [
    "import pandas as pd\n",
    "import numpy as np"
   ]
  },
  {
   "cell_type": "code",
   "execution_count": null,
   "metadata": {},
   "outputs": [
    {
     "data": {
      "text/html": [
       "<div>\n",
       "<style scoped>\n",
       "    .dataframe tbody tr th:only-of-type {\n",
       "        vertical-align: middle;\n",
       "    }\n",
       "\n",
       "    .dataframe tbody tr th {\n",
       "        vertical-align: top;\n",
       "    }\n",
       "\n",
       "    .dataframe thead th {\n",
       "        text-align: right;\n",
       "    }\n",
       "</style>\n",
       "<table border=\"1\" class=\"dataframe\">\n",
       "  <thead>\n",
       "    <tr style=\"text-align: right;\">\n",
       "      <th></th>\n",
       "      <th>category</th>\n",
       "    </tr>\n",
       "  </thead>\n",
       "  <tbody>\n",
       "    <tr>\n",
       "      <th>0</th>\n",
       "      <td>[Y tế - Chăm sóc sức khỏe/, Dược phẩm]</td>\n",
       "    </tr>\n",
       "    <tr>\n",
       "      <th>1</th>\n",
       "      <td>[Thu mua - Kho Vận - Chuỗi cung ứng]</td>\n",
       "    </tr>\n",
       "    <tr>\n",
       "      <th>2</th>\n",
       "      <td>[Xây dựng/, Quản lý tiêu chuẩn và chất lượng/,...</td>\n",
       "    </tr>\n",
       "    <tr>\n",
       "      <th>3</th>\n",
       "      <td>[Kế toán/, Kiểm toán]</td>\n",
       "    </tr>\n",
       "    <tr>\n",
       "      <th>4</th>\n",
       "      <td>[Bán hàng - Kinh doanh/, Chăm sóc khách hàng/,...</td>\n",
       "    </tr>\n",
       "    <tr>\n",
       "      <th>...</th>\n",
       "      <td>...</td>\n",
       "    </tr>\n",
       "    <tr>\n",
       "      <th>10707</th>\n",
       "      <td>Công Nghệ Thông Tin/Viễn Thông &gt; QA/QC/Softwar...</td>\n",
       "    </tr>\n",
       "    <tr>\n",
       "      <th>10708</th>\n",
       "      <td>Kiến Trúc/Xây Dựng &gt; Xây Dựng</td>\n",
       "    </tr>\n",
       "    <tr>\n",
       "      <th>10709</th>\n",
       "      <td>Tiếp Thị, Quảng Cáo/Truyền Thông &gt; Tiếp Thị Tr...</td>\n",
       "    </tr>\n",
       "    <tr>\n",
       "      <th>10710</th>\n",
       "      <td>Kinh Doanh &gt; Bán Hàng Kỹ Thuật</td>\n",
       "    </tr>\n",
       "    <tr>\n",
       "      <th>10711</th>\n",
       "      <td>Công Nghệ Thông Tin/Viễn Thông &gt; Phần Mềm Máy ...</td>\n",
       "    </tr>\n",
       "  </tbody>\n",
       "</table>\n",
       "<p>10712 rows × 1 columns</p>\n",
       "</div>"
      ],
      "text/plain": [
       "                                                category\n",
       "0                 [Y tế - Chăm sóc sức khỏe/, Dược phẩm]\n",
       "1                   [Thu mua - Kho Vận - Chuỗi cung ứng]\n",
       "2      [Xây dựng/, Quản lý tiêu chuẩn và chất lượng/,...\n",
       "3                                  [Kế toán/, Kiểm toán]\n",
       "4      [Bán hàng - Kinh doanh/, Chăm sóc khách hàng/,...\n",
       "...                                                  ...\n",
       "10707  Công Nghệ Thông Tin/Viễn Thông > QA/QC/Softwar...\n",
       "10708                      Kiến Trúc/Xây Dựng > Xây Dựng\n",
       "10709  Tiếp Thị, Quảng Cáo/Truyền Thông > Tiếp Thị Tr...\n",
       "10710                     Kinh Doanh > Bán Hàng Kỹ Thuật\n",
       "10711  Công Nghệ Thông Tin/Viễn Thông > Phần Mềm Máy ...\n",
       "\n",
       "[10712 rows x 1 columns]"
      ]
     },
     "execution_count": 39,
     "metadata": {},
     "output_type": "execute_result"
    }
   ],
   "source": [
    "# load file\n",
    "df_raw = pd.read_json('../full.jsonl', lines=True)[['category']]\n",
    "df_raw"
   ]
  },
  {
   "cell_type": "code",
   "execution_count": null,
   "metadata": {},
   "outputs": [
    {
     "data": {
      "text/html": [
       "<div>\n",
       "<style scoped>\n",
       "    .dataframe tbody tr th:only-of-type {\n",
       "        vertical-align: middle;\n",
       "    }\n",
       "\n",
       "    .dataframe tbody tr th {\n",
       "        vertical-align: top;\n",
       "    }\n",
       "\n",
       "    .dataframe thead th {\n",
       "        text-align: right;\n",
       "    }\n",
       "</style>\n",
       "<table border=\"1\" class=\"dataframe\">\n",
       "  <thead>\n",
       "    <tr style=\"text-align: right;\">\n",
       "      <th></th>\n",
       "      <th>category</th>\n",
       "    </tr>\n",
       "  </thead>\n",
       "  <tbody>\n",
       "    <tr>\n",
       "      <th>0</th>\n",
       "      <td>[Y tế - Chăm sóc sức khỏe/, Dược phẩm]</td>\n",
       "    </tr>\n",
       "    <tr>\n",
       "      <th>1</th>\n",
       "      <td>[Thu mua - Kho Vận - Chuỗi cung ứng]</td>\n",
       "    </tr>\n",
       "    <tr>\n",
       "      <th>2</th>\n",
       "      <td>[Xây dựng/, Quản lý tiêu chuẩn và chất lượng/,...</td>\n",
       "    </tr>\n",
       "    <tr>\n",
       "      <th>3</th>\n",
       "      <td>[Kế toán/, Kiểm toán]</td>\n",
       "    </tr>\n",
       "    <tr>\n",
       "      <th>4</th>\n",
       "      <td>[Bán hàng - Kinh doanh/, Chăm sóc khách hàng/,...</td>\n",
       "    </tr>\n",
       "    <tr>\n",
       "      <th>...</th>\n",
       "      <td>...</td>\n",
       "    </tr>\n",
       "    <tr>\n",
       "      <th>10707</th>\n",
       "      <td>[Công Nghệ Thông Tin/Viễn Thông &gt; QA/QC/Softwa...</td>\n",
       "    </tr>\n",
       "    <tr>\n",
       "      <th>10708</th>\n",
       "      <td>[Kiến Trúc/Xây Dựng &gt; Xây Dựng]</td>\n",
       "    </tr>\n",
       "    <tr>\n",
       "      <th>10709</th>\n",
       "      <td>[Tiếp Thị, Quảng Cáo/Truyền Thông &gt; Tiếp Thị T...</td>\n",
       "    </tr>\n",
       "    <tr>\n",
       "      <th>10710</th>\n",
       "      <td>[Kinh Doanh &gt; Bán Hàng Kỹ Thuật]</td>\n",
       "    </tr>\n",
       "    <tr>\n",
       "      <th>10711</th>\n",
       "      <td>[Công Nghệ Thông Tin/Viễn Thông &gt; Phần Mềm Máy...</td>\n",
       "    </tr>\n",
       "  </tbody>\n",
       "</table>\n",
       "<p>10712 rows × 1 columns</p>\n",
       "</div>"
      ],
      "text/plain": [
       "                                                category\n",
       "0                 [Y tế - Chăm sóc sức khỏe/, Dược phẩm]\n",
       "1                   [Thu mua - Kho Vận - Chuỗi cung ứng]\n",
       "2      [Xây dựng/, Quản lý tiêu chuẩn và chất lượng/,...\n",
       "3                                  [Kế toán/, Kiểm toán]\n",
       "4      [Bán hàng - Kinh doanh/, Chăm sóc khách hàng/,...\n",
       "...                                                  ...\n",
       "10707  [Công Nghệ Thông Tin/Viễn Thông > QA/QC/Softwa...\n",
       "10708                    [Kiến Trúc/Xây Dựng > Xây Dựng]\n",
       "10709  [Tiếp Thị, Quảng Cáo/Truyền Thông > Tiếp Thị T...\n",
       "10710                   [Kinh Doanh > Bán Hàng Kỹ Thuật]\n",
       "10711  [Công Nghệ Thông Tin/Viễn Thông > Phần Mềm Máy...\n",
       "\n",
       "[10712 rows x 1 columns]"
      ]
     },
     "execution_count": 41,
     "metadata": {},
     "output_type": "execute_result"
    }
   ],
   "source": [
    "# if filed is not list, convert to list\n",
    "df_raw['category'] = df_raw['category'].apply(lambda x: x if isinstance(x, list) else [x])\n",
    "df_raw\n"
   ]
  },
  {
   "cell_type": "code",
   "execution_count": null,
   "metadata": {},
   "outputs": [
    {
     "data": {
      "text/html": [
       "<div>\n",
       "<style scoped>\n",
       "    .dataframe tbody tr th:only-of-type {\n",
       "        vertical-align: middle;\n",
       "    }\n",
       "\n",
       "    .dataframe tbody tr th {\n",
       "        vertical-align: top;\n",
       "    }\n",
       "\n",
       "    .dataframe thead th {\n",
       "        text-align: right;\n",
       "    }\n",
       "</style>\n",
       "<table border=\"1\" class=\"dataframe\">\n",
       "  <thead>\n",
       "    <tr style=\"text-align: right;\">\n",
       "      <th></th>\n",
       "      <th>category</th>\n",
       "    </tr>\n",
       "  </thead>\n",
       "  <tbody>\n",
       "    <tr>\n",
       "      <th>0</th>\n",
       "      <td>[y tế , chăm sóc sức khỏe,, dược phẩm]</td>\n",
       "    </tr>\n",
       "    <tr>\n",
       "      <th>1</th>\n",
       "      <td>[thu mua , kho vận , chuỗi cung ứng]</td>\n",
       "    </tr>\n",
       "    <tr>\n",
       "      <th>2</th>\n",
       "      <td>[xây dựng,, quản lý tiêu chuẩn và chất lượng,,...</td>\n",
       "    </tr>\n",
       "    <tr>\n",
       "      <th>3</th>\n",
       "      <td>[kế toán,, kiểm toán]</td>\n",
       "    </tr>\n",
       "    <tr>\n",
       "      <th>4</th>\n",
       "      <td>[bán hàng , kinh doanh,, chăm sóc khách hàng,,...</td>\n",
       "    </tr>\n",
       "    <tr>\n",
       "      <th>...</th>\n",
       "      <td>...</td>\n",
       "    </tr>\n",
       "    <tr>\n",
       "      <th>10707</th>\n",
       "      <td>[công nghệ thông tin,viễn thông , qa,qc,softwa...</td>\n",
       "    </tr>\n",
       "    <tr>\n",
       "      <th>10708</th>\n",
       "      <td>[kiến trúc,xây dựng , xây dựng]</td>\n",
       "    </tr>\n",
       "    <tr>\n",
       "      <th>10709</th>\n",
       "      <td>[tiếp thị, quảng cáo,truyền thông , tiếp thị t...</td>\n",
       "    </tr>\n",
       "    <tr>\n",
       "      <th>10710</th>\n",
       "      <td>[kinh doanh , bán hàng kỹ thuật]</td>\n",
       "    </tr>\n",
       "    <tr>\n",
       "      <th>10711</th>\n",
       "      <td>[công nghệ thông tin,viễn thông , phần mềm máy...</td>\n",
       "    </tr>\n",
       "  </tbody>\n",
       "</table>\n",
       "<p>10712 rows × 1 columns</p>\n",
       "</div>"
      ],
      "text/plain": [
       "                                                category\n",
       "0                 [y tế , chăm sóc sức khỏe,, dược phẩm]\n",
       "1                   [thu mua , kho vận , chuỗi cung ứng]\n",
       "2      [xây dựng,, quản lý tiêu chuẩn và chất lượng,,...\n",
       "3                                  [kế toán,, kiểm toán]\n",
       "4      [bán hàng , kinh doanh,, chăm sóc khách hàng,,...\n",
       "...                                                  ...\n",
       "10707  [công nghệ thông tin,viễn thông , qa,qc,softwa...\n",
       "10708                    [kiến trúc,xây dựng , xây dựng]\n",
       "10709  [tiếp thị, quảng cáo,truyền thông , tiếp thị t...\n",
       "10710                   [kinh doanh , bán hàng kỹ thuật]\n",
       "10711  [công nghệ thông tin,viễn thông , phần mềm máy...\n",
       "\n",
       "[10712 rows x 1 columns]"
      ]
     },
     "execution_count": 48,
     "metadata": {},
     "output_type": "execute_result"
    }
   ],
   "source": [
    "\n",
    "import re\n",
    "regex = r'[!@#$%^&*()_+\\-=\\[\\]{};:\"\\\\|,.<>\\/?]'\n",
    "# replace all non-reg\n",
    "df_raw['category'] = df_raw['category'].apply(lambda x: [re.sub(regex, ',', i).lower() for i in x])\n",
    "df_raw"
   ]
  },
  {
   "cell_type": "code",
   "execution_count": null,
   "metadata": {},
   "outputs": [
    {
     "data": {
      "text/html": [
       "<div>\n",
       "<style scoped>\n",
       "    .dataframe tbody tr th:only-of-type {\n",
       "        vertical-align: middle;\n",
       "    }\n",
       "\n",
       "    .dataframe tbody tr th {\n",
       "        vertical-align: top;\n",
       "    }\n",
       "\n",
       "    .dataframe thead th {\n",
       "        text-align: right;\n",
       "    }\n",
       "</style>\n",
       "<table border=\"1\" class=\"dataframe\">\n",
       "  <thead>\n",
       "    <tr style=\"text-align: right;\">\n",
       "      <th></th>\n",
       "      <th>category</th>\n",
       "    </tr>\n",
       "  </thead>\n",
       "  <tbody>\n",
       "    <tr>\n",
       "      <th>0</th>\n",
       "      <td>[y tế ,  chăm sóc sức khỏe, dược phẩm]</td>\n",
       "    </tr>\n",
       "    <tr>\n",
       "      <th>1</th>\n",
       "      <td>[thu mua ,  kho vận ,  chuỗi cung ứng]</td>\n",
       "    </tr>\n",
       "    <tr>\n",
       "      <th>2</th>\n",
       "      <td>[xây dựng, quản lý tiêu chuẩn và chất lượng, k...</td>\n",
       "    </tr>\n",
       "    <tr>\n",
       "      <th>3</th>\n",
       "      <td>[kế toán, kiểm toán]</td>\n",
       "    </tr>\n",
       "    <tr>\n",
       "      <th>4</th>\n",
       "      <td>[bán hàng ,  kinh doanh, chăm sóc khách hàng, ...</td>\n",
       "    </tr>\n",
       "    <tr>\n",
       "      <th>...</th>\n",
       "      <td>...</td>\n",
       "    </tr>\n",
       "    <tr>\n",
       "      <th>10707</th>\n",
       "      <td>[công nghệ thông tin, viễn thông ,  qa, qc, so...</td>\n",
       "    </tr>\n",
       "    <tr>\n",
       "      <th>10708</th>\n",
       "      <td>[kiến trúc, xây dựng ,  xây dựng]</td>\n",
       "    </tr>\n",
       "    <tr>\n",
       "      <th>10709</th>\n",
       "      <td>[tiếp thị,  quảng cáo, truyền thông ,  tiếp th...</td>\n",
       "    </tr>\n",
       "    <tr>\n",
       "      <th>10710</th>\n",
       "      <td>[kinh doanh ,  bán hàng kỹ thuật]</td>\n",
       "    </tr>\n",
       "    <tr>\n",
       "      <th>10711</th>\n",
       "      <td>[công nghệ thông tin, viễn thông ,  phần mềm m...</td>\n",
       "    </tr>\n",
       "  </tbody>\n",
       "</table>\n",
       "<p>10712 rows × 1 columns</p>\n",
       "</div>"
      ],
      "text/plain": [
       "                                                category\n",
       "0                 [y tế ,  chăm sóc sức khỏe, dược phẩm]\n",
       "1                 [thu mua ,  kho vận ,  chuỗi cung ứng]\n",
       "2      [xây dựng, quản lý tiêu chuẩn và chất lượng, k...\n",
       "3                                   [kế toán, kiểm toán]\n",
       "4      [bán hàng ,  kinh doanh, chăm sóc khách hàng, ...\n",
       "...                                                  ...\n",
       "10707  [công nghệ thông tin, viễn thông ,  qa, qc, so...\n",
       "10708                  [kiến trúc, xây dựng ,  xây dựng]\n",
       "10709  [tiếp thị,  quảng cáo, truyền thông ,  tiếp th...\n",
       "10710                  [kinh doanh ,  bán hàng kỹ thuật]\n",
       "10711  [công nghệ thông tin, viễn thông ,  phần mềm m...\n",
       "\n",
       "[10712 rows x 1 columns]"
      ]
     },
     "execution_count": 53,
     "metadata": {},
     "output_type": "execute_result"
    }
   ],
   "source": [
    "# split by comma and remove empty string\n",
    "df_raw['category'] = df_raw['category'].apply(lambda x: [i for i in ','.join(x).split(',') if i])\n",
    "df_raw"
   ]
  },
  {
   "cell_type": "code",
   "execution_count": null,
   "metadata": {},
   "outputs": [
    {
     "data": {
      "text/plain": [
       "{'a',\n",
       " 'ai',\n",
       " 'an ninh',\n",
       " 'an toàn lao động',\n",
       " 'b',\n",
       " 'bao tiêu',\n",
       " 'bar',\n",
       " 'biên',\n",
       " 'biên phiên dịch',\n",
       " 'biên tập',\n",
       " 'bác sĩ',\n",
       " 'bán hàng',\n",
       " 'bán hàng kỹ thuật',\n",
       " 'bán hàng qua điện thoại',\n",
       " 'bán lẻ',\n",
       " 'bán sỉ',\n",
       " 'báo chí',\n",
       " 'báo cáo tài chính',\n",
       " 'bưu chính viễn thông',\n",
       " 'bảo dưỡng',\n",
       " 'bảo hiểm',\n",
       " 'bảo lãnh',\n",
       " 'bảo mật công nghệ thông tin',\n",
       " 'bảo trì',\n",
       " 'bảo vệ',\n",
       " 'bất động sản',\n",
       " 'bồi thường bảo hiểm',\n",
       " 'bộ phận tiền sảnh',\n",
       " 'call center',\n",
       " 'ceo',\n",
       " 'cho thuê',\n",
       " 'chuyển đổi số',\n",
       " 'chuỗi cung ứng',\n",
       " 'chính phủ',\n",
       " 'chính sách',\n",
       " 'chăm sóc khách hàng',\n",
       " 'chăm sóc sức khoẻ',\n",
       " 'chăm sóc sức khỏe',\n",
       " 'chăn nuôi',\n",
       " 'chất thải',\n",
       " 'chế biến',\n",
       " 'chế tạo',\n",
       " 'chỉnh sửa video',\n",
       " 'chứng khoán',\n",
       " 'cloud',\n",
       " 'copywriter',\n",
       " 'công nghệ sinh học',\n",
       " 'công nghệ thông tin',\n",
       " 'công nghệ thực phẩm',\n",
       " 'công ty kinh doanh lữ hành',\n",
       " 'công tác xã hội',\n",
       " 'cơ khí',\n",
       " 'cơ khí tự động hoá',\n",
       " 'cầu đường',\n",
       " 'da giày',\n",
       " 'data analyst',\n",
       " 'data engineer',\n",
       " 'devops engineer',\n",
       " 'dinh dưỡng',\n",
       " 'du lịch',\n",
       " 'dược',\n",
       " 'dược phẩm',\n",
       " 'dược sĩ',\n",
       " 'dầu khí',\n",
       " 'dệt may',\n",
       " 'dịch vụ',\n",
       " 'dịch vụ hàng không',\n",
       " 'dịch vụ hỗ trợ khách hàng',\n",
       " 'dịch vụ khách hàng',\n",
       " 'dịch vụ sinh viên',\n",
       " 'dịch vụ tài chính',\n",
       " 'dịch vụ vận tải công cộng',\n",
       " 'dịch vụ ăn uống',\n",
       " 'dự án',\n",
       " 'freelancer',\n",
       " 'general management',\n",
       " 'giao dịch chứng khoán',\n",
       " 'giao nhận',\n",
       " 'giao nhận hàng hóa',\n",
       " 'giao thông vận tải',\n",
       " 'giám thẩm định',\n",
       " 'giáo dục',\n",
       " 'giảng dạy',\n",
       " 'gắn kết nhân viên',\n",
       " 'help desk',\n",
       " 'hoạch định',\n",
       " 'hàng hải',\n",
       " 'hành chính',\n",
       " 'hành chính văn phòng',\n",
       " 'hóa học',\n",
       " 'hóa sinh',\n",
       " 'hướng dẫn viên du lịch',\n",
       " 'hướng khách hàng',\n",
       " 'hậu cần',\n",
       " 'họa viên kiến trúc',\n",
       " 'hỗ trợ học viên',\n",
       " 'in ấn',\n",
       " 'it phần cứng',\n",
       " 'it phần mềm',\n",
       " 'it support',\n",
       " 'kd bất động sản',\n",
       " 'khai thác mỏ',\n",
       " 'khai thác năng lượng',\n",
       " 'kho bãi',\n",
       " 'kho vận',\n",
       " 'khoa học',\n",
       " 'khoáng sản',\n",
       " 'khu chế xuất',\n",
       " 'khu công nghiệp',\n",
       " 'khác',\n",
       " 'khách sạn',\n",
       " 'kinh doanh',\n",
       " 'kinh doanh thương mại',\n",
       " 'kiến trúc',\n",
       " 'kiểm soát chất lượng',\n",
       " 'kiểm soát rủi ro',\n",
       " 'kiểm soát viên tài chính',\n",
       " 'kiểm toán',\n",
       " 'kế hoạch',\n",
       " 'kế toán',\n",
       " 'kế toán chi phí',\n",
       " 'kế toán công nợ',\n",
       " 'kế toán doanh thu',\n",
       " 'kế toán quản trị',\n",
       " 'kế toán thanh toán',\n",
       " 'kế toán thuế',\n",
       " 'kế toán tài chính',\n",
       " 'kế toán tổng hợp',\n",
       " 'kỹ thuật',\n",
       " 'kỹ thuật cnc',\n",
       " 'kỹ thuật hóa học',\n",
       " 'kỹ thuật môi trường',\n",
       " 'kỹ thuật viên y tế',\n",
       " 'kỹ thuật ô tô',\n",
       " 'kỹ thuật điện',\n",
       " 'kỹ thuật ứng dụng',\n",
       " 'lao động phổ thông',\n",
       " 'logistic',\n",
       " 'luật',\n",
       " 'luật sở hữu trí tuệ',\n",
       " 'luật thuế',\n",
       " 'luật tài chính ngân hàng thương mại',\n",
       " 'luật xây dựng',\n",
       " 'làm đẹp',\n",
       " 'lái xe',\n",
       " 'lâm',\n",
       " 'lương cao',\n",
       " 'lương thưởng',\n",
       " 'lắp ráp',\n",
       " 'lễ tân',\n",
       " 'marketing',\n",
       " 'môi giới',\n",
       " 'môi trường',\n",
       " 'mạng',\n",
       " 'mỹ phẩm',\n",
       " 'mỹ thuật',\n",
       " 'n',\n",
       " 'nghiên cứu',\n",
       " 'nghiên cứu học thuật',\n",
       " 'nghiệp',\n",
       " 'nghề nghiệp khác',\n",
       " 'nghệ thuật',\n",
       " 'ngo',\n",
       " 'ngành nghề khác',\n",
       " 'ngân hàng',\n",
       " 'ngư',\n",
       " 'ngư nghiệp',\n",
       " 'nhiếp ảnh',\n",
       " 'nhà hàng',\n",
       " 'nhân sự',\n",
       " 'nhân sự tổng hợp',\n",
       " 'nhân viên kinh doanh',\n",
       " 'nhập khẩu',\n",
       " 'nhập liệu',\n",
       " 'nông',\n",
       " 'nước',\n",
       " 'pb',\n",
       " 'pg',\n",
       " 'pha chế',\n",
       " 'phi lợi nhuận',\n",
       " 'phiên dịch',\n",
       " 'pháp lý',\n",
       " 'phát triển',\n",
       " 'phát triển bất động sản',\n",
       " 'phát triển dự án',\n",
       " 'phát triển kinh doanh',\n",
       " 'phát triển sản phẩm',\n",
       " 'phát triển sản phẩm may mặc',\n",
       " 'phát triển thị trường',\n",
       " 'phân phối',\n",
       " 'phân phối dược phẩm',\n",
       " 'phân tích',\n",
       " 'phân tích dự án bất động sản',\n",
       " 'phân tích hệ thống',\n",
       " 'phân tích kinh doanh',\n",
       " 'phân tích sản xuất',\n",
       " 'phân tích thị trường',\n",
       " 'phúc lợi',\n",
       " 'phần cứng máy tính',\n",
       " 'phần mềm máy tính',\n",
       " 'phụ bếp',\n",
       " 'phục vụ',\n",
       " 'pr',\n",
       " 'qa',\n",
       " 'qc',\n",
       " 'quan hệ công chúng',\n",
       " 'quan hệ đối ngoại',\n",
       " 'quy hoạch',\n",
       " 'quy hoạch đô thị',\n",
       " 'quy trình',\n",
       " 'quy định',\n",
       " 'quản lý',\n",
       " 'quản lý chuỗi cung ứng',\n",
       " 'quản lý chất lượng',\n",
       " 'quản lý công nghệ thông tin',\n",
       " 'quản lý căn hộ',\n",
       " 'quản lý cơ sở vật chất',\n",
       " 'quản lý cấp cao',\n",
       " 'quản lý cửa hàng',\n",
       " 'quản lý dự án',\n",
       " 'quản lý dự án công nghệ',\n",
       " 'quản lý f',\n",
       " 'quản lý giáo dục',\n",
       " 'quản lý kho',\n",
       " 'quản lý khu vực',\n",
       " 'quản lý quan hệ khách hàng',\n",
       " 'quản lý quỹ',\n",
       " 'quản lý sản xuất',\n",
       " 'quản lý sự kiện',\n",
       " 'quản lý thi hành pháp luật',\n",
       " 'quản lý thương hiệu',\n",
       " 'quản lý tiêu chuẩn và chất lượng',\n",
       " 'quản lý tài khoản khách hàng',\n",
       " 'quản lý tài sản',\n",
       " 'quản lý văn phòng',\n",
       " 'quản lý điều hành',\n",
       " 'quản lý đơn hàng',\n",
       " 'quản lý đội xe',\n",
       " 'quản trị cơ sở dữ liệu',\n",
       " 'quản trị hiệu suất',\n",
       " 'quản trị hàng tồn kho',\n",
       " 'quản trị kinh doanh',\n",
       " 'quảng cáo',\n",
       " 'quầy bar',\n",
       " 'sinh học',\n",
       " 'sinh viên làm thêm',\n",
       " 'sinh viên mới tốt nghiệp',\n",
       " 'software testing',\n",
       " 'spa',\n",
       " 'system',\n",
       " 'sáng tạo nghệ thuật',\n",
       " 'sản xuất',\n",
       " 'sản xuất chương trình',\n",
       " 'sự nghiệp',\n",
       " 'telesales',\n",
       " 'thiết bị',\n",
       " 'thiết kế',\n",
       " 'thiết kế công nghiệp',\n",
       " 'thiết kế kiến trúc',\n",
       " 'thiết kế nội ngoại thất',\n",
       " 'thiết kế nội thất',\n",
       " 'thiết kế thời trang',\n",
       " 'thiết kế web',\n",
       " 'thiết kế đồ họa',\n",
       " 'thu hồi nợ',\n",
       " 'thu mua',\n",
       " 'thu ngân',\n",
       " 'thông tin',\n",
       " 'thú y',\n",
       " 'thư ký',\n",
       " 'thư ký luật',\n",
       " 'thư ký pháp lý',\n",
       " 'thương mại điện tử',\n",
       " 'thẩm định',\n",
       " 'thể lực',\n",
       " 'thống kê dữ liệu',\n",
       " 'thời trang',\n",
       " 'thủ tục hải quan',\n",
       " 'thủy lợi',\n",
       " 'thủy sản',\n",
       " 'thực phẩm',\n",
       " 'thực tập',\n",
       " 'thực tập sinh',\n",
       " 'tiêu dùng',\n",
       " 'tiếp thị',\n",
       " 'tiếp thị nội dung',\n",
       " 'tiếp thị thương mại',\n",
       " 'tiếp thị trực tuyến',\n",
       " 'tiếp tân',\n",
       " 'tk nội thất',\n",
       " 'trang sức',\n",
       " 'truyền hình',\n",
       " 'truyền thông',\n",
       " 'trợ lý',\n",
       " 'trợ lý bán lẻ',\n",
       " 'trợ lý kinh doanh',\n",
       " 'trợ lý luật',\n",
       " 'tuyển dụng',\n",
       " 'tuân thủ',\n",
       " 'tài chính',\n",
       " 'tìm việc làm thêm',\n",
       " 'tín dụng',\n",
       " 'tư vấn',\n",
       " 'tư vấn doanh nghiệp',\n",
       " 'tư vấn giáo dục',\n",
       " 'tư vấn pháp lý',\n",
       " 'tư vấn rủi ro',\n",
       " 'tư vấn tâm lý',\n",
       " 'tạp vụ',\n",
       " 'tổ chức sự kiện',\n",
       " 'tự động hóa',\n",
       " 'ui design',\n",
       " 'ux',\n",
       " 'viễn thông',\n",
       " 'việc làm bán hàng',\n",
       " 'văn phòng',\n",
       " 'vận chuyển giao nhận',\n",
       " 'vận hành',\n",
       " 'vận hành máy móc',\n",
       " 'vận hành sản xuất',\n",
       " 'vận tải',\n",
       " 'vận tải đường bộ',\n",
       " 'vận tải đường sắt',\n",
       " 'vật tư',\n",
       " 'vệ sinh buồng phòng',\n",
       " 'xe máy',\n",
       " 'xuất',\n",
       " 'xuất bản',\n",
       " 'xuất khẩu lao động',\n",
       " 'xuất nhập khẩu',\n",
       " 'xây dựng',\n",
       " 'xử lý chất thải',\n",
       " 'y tá',\n",
       " 'y tế',\n",
       " 'ô tô',\n",
       " 'điều phối',\n",
       " 'điều trị nội trú',\n",
       " 'điều trị đa khoa',\n",
       " 'điện',\n",
       " 'điện lạnh',\n",
       " 'điện tử',\n",
       " 'điện tử viễn thông',\n",
       " 'điện ảnh',\n",
       " 'đào tạo',\n",
       " 'đào tạo và phát triển',\n",
       " 'đại lý du lịch',\n",
       " 'đạo diễn nghệ thuật',\n",
       " 'đảm bảo chất lượng',\n",
       " 'đấu thầu',\n",
       " 'đầu bếp',\n",
       " 'đầu tư',\n",
       " 'đầu tư tài chính',\n",
       " 'đặt phòng khách sạn',\n",
       " 'địa chất',\n",
       " 'định giá',\n",
       " 'định phí bảo hiểm',\n",
       " 'đồ uống'}"
      ]
     },
     "execution_count": 55,
     "metadata": {},
     "output_type": "execute_result"
    }
   ],
   "source": [
    "# trim space in string\n",
    "df_raw['category'] = df_raw['category'].apply(lambda x: [i.strip() for i in x])\n",
    "#get unique category\n",
    "unique_category = set([i for j in df_raw['category'].tolist() for i in j])\n",
    "unique_category"
   ]
  },
  {
   "cell_type": "code",
   "execution_count": 157,
   "metadata": {},
   "outputs": [
    {
     "name": "stderr",
     "output_type": "stream",
     "text": [
      "/Users/azoom/PycharmProjects/Data_Science/venv/lib/python3.10/site-packages/sklearn/cluster/_kmeans.py:1416: FutureWarning: The default value of `n_init` will change from 10 to 'auto' in 1.4. Set the value of `n_init` explicitly to suppress the warning\n",
      "  super()._check_params_vs_input(X, default_n_init=10)\n"
     ]
    }
   ],
   "source": [
    "from gensim.models.fasttext import FastText\n",
    "from sklearn.cluster import KMeans\n",
    "\n",
    "# Prepare the data\n",
    "sentences = [[word] for word in unique_category]\n",
    "\n",
    "# Train a FastText model\n",
    "model = FastText(sentences, min_count=1)\n",
    "\n",
    "# Get the vectors\n",
    "vectors = [model.wv[word] for word in unique_category]\n",
    "\n",
    "# Cluster the vectors\n",
    "kmeans = KMeans(n_clusters=20)  # choose the appropriate number of clusters\n",
    "kmeans.fit(vectors)\n",
    "\n",
    "# Assign the cluster labels to the words\n",
    "word_clusters = {word: label for word, label in zip(unique_category, kmeans.labels_)}\n",
    "# save word_clusters to by pandas\n",
    "df_word_clusters = pd.DataFrame.from_dict(word_clusters, orient='index', columns=['cluster'])\n",
    "df_word_clusters.to_csv('word_clusters.csv', index=True, header=False)"
   ]
  },
  {
   "cell_type": "code",
   "execution_count": 177,
   "metadata": {},
   "outputs": [
    {
     "data": {
      "text/plain": [
       "{15: ['khu công nghiệp',\n",
       "  'phân tích kinh doanh',\n",
       "  'bán hàng',\n",
       "  'kỹ thuật điện',\n",
       "  'sản xuất chương trình',\n",
       "  'phân tích',\n",
       "  'mỹ thuật',\n",
       "  'kỹ thuật viên y tế',\n",
       "  'giáo dục',\n",
       "  'quy hoạch đô thị',\n",
       "  'nghệ thuật',\n",
       "  'truyền thông',\n",
       "  'cho thuê',\n",
       "  'an ninh',\n",
       "  'sự nghiệp',\n",
       "  'help desk',\n",
       "  'tư vấn rủi ro',\n",
       "  'quản trị hàng tồn kho',\n",
       "  'telesales',\n",
       "  'đặt phòng khách sạn',\n",
       "  'ngành nghề khác',\n",
       "  'điều trị đa khoa',\n",
       "  'chứng khoán',\n",
       "  'lương cao',\n",
       "  'lương thưởng',\n",
       "  'kỹ thuật ô tô',\n",
       "  'khai thác năng lượng',\n",
       "  'xuất bản',\n",
       "  'công nghệ sinh học',\n",
       "  'nghiệp',\n",
       "  'đầu tư tài chính',\n",
       "  'it phần mềm',\n",
       "  'tiếp thị nội dung',\n",
       "  'đạo diễn nghệ thuật',\n",
       "  'bác sĩ',\n",
       "  'phân tích thị trường',\n",
       "  'nghiên cứu học thuật',\n",
       "  'điều trị nội trú',\n",
       "  'tư vấn pháp lý',\n",
       "  'general management',\n",
       "  'phúc lợi',\n",
       "  'phát triển dự án',\n",
       "  'tư vấn doanh nghiệp',\n",
       "  'data analyst',\n",
       "  'xuất khẩu lao động',\n",
       "  'du lịch',\n",
       "  'nghề nghiệp khác',\n",
       "  'việc làm bán hàng',\n",
       "  'thời trang',\n",
       "  'hỗ trợ học viên',\n",
       "  'sáng tạo nghệ thuật',\n",
       "  'tư vấn giáo dục',\n",
       "  'phát triển sản phẩm',\n",
       "  'thiết kế công nghiệp',\n",
       "  'phát triển bất động sản',\n",
       "  'kỹ thuật cnc',\n",
       "  'ui design',\n",
       "  'freelancer',\n",
       "  'môi trường',\n",
       "  'bảo mật công nghệ thông tin',\n",
       "  'tìm việc làm thêm',\n",
       "  'trang sức',\n",
       "  'nghiên cứu',\n",
       "  'ngân hàng',\n",
       "  'giao dịch chứng khoán',\n",
       "  'tự động hóa',\n",
       "  'hành chính văn phòng',\n",
       "  'báo cáo tài chính',\n",
       "  'phân tích sản xuất',\n",
       "  'công nghệ thông tin',\n",
       "  'chế biến',\n",
       "  'công nghệ thực phẩm',\n",
       "  'bưu chính viễn thông',\n",
       "  'cloud',\n",
       "  'hướng khách hàng',\n",
       "  'tk nội thất',\n",
       "  'bảo vệ',\n",
       "  'bảo lãnh',\n",
       "  'thủ tục hải quan',\n",
       "  'bán hàng qua điện thoại',\n",
       "  'quan hệ công chúng',\n",
       "  'đầu bếp',\n",
       "  'kd bất động sản',\n",
       "  'văn phòng',\n",
       "  'data engineer',\n",
       "  'vệ sinh buồng phòng',\n",
       "  'ngư nghiệp',\n",
       "  'phân tích hệ thống',\n",
       "  'công tác xã hội',\n",
       "  'đầu tư',\n",
       "  'kỹ thuật môi trường',\n",
       "  'quy trình',\n",
       "  'sinh viên mới tốt nghiệp',\n",
       "  'tuân thủ',\n",
       "  'giao nhận hàng hóa',\n",
       "  'viễn thông',\n",
       "  'phân phối dược phẩm',\n",
       "  'vận hành máy móc',\n",
       "  'sinh học',\n",
       "  'kiểm soát viên tài chính',\n",
       "  'bất động sản',\n",
       "  'bảo dưỡng',\n",
       "  'tiêu dùng',\n",
       "  'chuỗi cung ứng',\n",
       "  'cơ khí tự động hoá',\n",
       "  'tổ chức sự kiện',\n",
       "  'phân phối',\n",
       "  'phân tích dự án bất động sản',\n",
       "  'bán hàng kỹ thuật',\n",
       "  'sinh viên làm thêm',\n",
       "  'phát triển sản phẩm may mặc',\n",
       "  'tư vấn tâm lý',\n",
       "  'kỹ thuật hóa học',\n",
       "  'vận chuyển giao nhận',\n",
       "  'giao thông vận tải',\n",
       "  'lao động phổ thông',\n",
       "  'hóa sinh',\n",
       "  'hướng dẫn viên du lịch',\n",
       "  'lái xe',\n",
       "  'kỹ thuật ứng dụng',\n",
       "  'kỹ thuật',\n",
       "  'giảng dạy',\n",
       "  'khoáng sản',\n",
       "  'chuyển đổi số'],\n",
       " 3: ['chăn nuôi',\n",
       "  'kế toán doanh thu',\n",
       "  'thiết kế thời trang',\n",
       "  'đào tạo',\n",
       "  'kế toán công nợ',\n",
       "  'xe máy',\n",
       "  'thực phẩm',\n",
       "  'kế toán',\n",
       "  'dược sĩ',\n",
       "  'kế toán quản trị',\n",
       "  'chính phủ',\n",
       "  'chính sách',\n",
       "  'kế toán thanh toán',\n",
       "  'thư ký pháp lý',\n",
       "  'giao nhận',\n",
       "  'kiểm toán',\n",
       "  'điều phối',\n",
       "  'mỹ phẩm',\n",
       "  'kế toán tổng hợp',\n",
       "  'kế toán tài chính',\n",
       "  'pb',\n",
       "  'dược phẩm',\n",
       "  'chỉnh sửa video',\n",
       "  'hành chính',\n",
       "  'pháp lý',\n",
       "  'quầy bar',\n",
       "  'kế toán chi phí',\n",
       "  'kế toán thuế',\n",
       "  'bar'],\n",
       " 7: ['quản lý công nghệ thông tin',\n",
       "  'quản lý sản xuất',\n",
       "  'nước',\n",
       "  'quản trị hiệu suất',\n",
       "  'môi giới',\n",
       "  'quản lý khu vực',\n",
       "  'đồ uống',\n",
       "  'quản lý thương hiệu',\n",
       "  'dược',\n",
       "  'quản lý đơn hàng',\n",
       "  'hàng hải',\n",
       "  'quản lý quỹ',\n",
       "  'quản lý dự án',\n",
       "  'quản lý giáo dục',\n",
       "  'đại lý du lịch',\n",
       "  'quản lý cấp cao',\n",
       "  'dệt may',\n",
       "  'quản lý chuỗi cung ứng',\n",
       "  'quản lý',\n",
       "  'quản lý cửa hàng',\n",
       "  'quản lý kho',\n",
       "  'quản lý căn hộ',\n",
       "  'quản lý quan hệ khách hàng',\n",
       "  'quản lý f',\n",
       "  'quản lý thi hành pháp luật',\n",
       "  'quản lý chất lượng',\n",
       "  'thú y',\n",
       "  'quản lý tài khoản khách hàng',\n",
       "  'quản lý sự kiện',\n",
       "  'bán sỉ',\n",
       "  'da giày',\n",
       "  'quản lý văn phòng',\n",
       "  'nông',\n",
       "  'quản lý tài sản',\n",
       "  'quản lý đội xe',\n",
       "  'quản lý điều hành',\n",
       "  'tạp vụ',\n",
       "  'quản lý dự án công nghệ'],\n",
       " 1: ['thể lực',\n",
       "  'địa chất',\n",
       "  'phiên dịch',\n",
       "  'thiết bị',\n",
       "  'phi lợi nhuận',\n",
       "  'marketing',\n",
       "  'thiết kế đồ họa',\n",
       "  'an toàn lao động',\n",
       "  'điện lạnh',\n",
       "  'phát triển',\n",
       "  'kinh doanh thương mại',\n",
       "  'khách sạn',\n",
       "  'khai thác mỏ',\n",
       "  'quan hệ đối ngoại',\n",
       "  'thương mại điện tử',\n",
       "  'dịch vụ tài chính',\n",
       "  'thống kê dữ liệu',\n",
       "  'thông tin',\n",
       "  'kế hoạch',\n",
       "  'gắn kết nhân viên',\n",
       "  'system',\n",
       "  'tiếp tân',\n",
       "  'tiếp thị',\n",
       "  'thiết kế kiến trúc',\n",
       "  'điện',\n",
       "  'phát triển thị trường',\n",
       "  'thiết kế web',\n",
       "  'chăm sóc sức khỏe',\n",
       "  'biên tập',\n",
       "  'biên',\n",
       "  'thiết kế nội ngoại thất',\n",
       "  'điện tử',\n",
       "  'chế tạo',\n",
       "  'đào tạo và phát triển',\n",
       "  'tài chính',\n",
       "  'tiếp thị thương mại',\n",
       "  'thực tập',\n",
       "  'chăm sóc sức khoẻ',\n",
       "  'quy hoạch',\n",
       "  'ô tô',\n",
       "  'phát triển kinh doanh',\n",
       "  'điện tử viễn thông',\n",
       "  'họa viên kiến trúc',\n",
       "  'biên phiên dịch',\n",
       "  'truyền hình',\n",
       "  'software testing',\n",
       "  'khoa học',\n",
       "  'thiết kế nội thất',\n",
       "  'thiết kế',\n",
       "  'tiếp thị trực tuyến',\n",
       "  'luật tài chính ngân hàng thương mại',\n",
       "  'logistic',\n",
       "  'làm đẹp',\n",
       "  'kiến trúc'],\n",
       " 11: ['copywriter',\n",
       "  'luật thuế',\n",
       "  'call center',\n",
       "  'nhập liệu',\n",
       "  'tuyển dụng',\n",
       "  'tín dụng',\n",
       "  'tư vấn',\n",
       "  'vật tư',\n",
       "  'trợ lý luật',\n",
       "  'lễ tân',\n",
       "  'thu mua',\n",
       "  'trợ lý',\n",
       "  'thu ngân',\n",
       "  'bảo trì',\n",
       "  'xử lý chất thải',\n",
       "  'nhân sự',\n",
       "  'chất thải',\n",
       "  'hóa học',\n",
       "  'kiểm soát rủi ro',\n",
       "  'quản trị cơ sở dữ liệu',\n",
       "  'quản lý cơ sở vật chất',\n",
       "  'luật sở hữu trí tuệ',\n",
       "  'pha chế',\n",
       "  'nhân sự tổng hợp',\n",
       "  'luật',\n",
       "  'devops engineer',\n",
       "  'thư ký luật',\n",
       "  'kiểm soát chất lượng',\n",
       "  'nhập khẩu',\n",
       "  'bồi thường bảo hiểm',\n",
       "  'it support',\n",
       "  'bảo hiểm',\n",
       "  'quản lý tiêu chuẩn và chất lượng',\n",
       "  'đấu thầu',\n",
       "  'thu hồi nợ',\n",
       "  'bán lẻ',\n",
       "  'xuất nhập khẩu',\n",
       "  'lâm',\n",
       "  'it phần cứng',\n",
       "  'luật xây dựng',\n",
       "  'thủy sản',\n",
       "  'đảm bảo chất lượng',\n",
       "  'dự án',\n",
       "  'trợ lý bán lẻ',\n",
       "  'phần cứng máy tính',\n",
       "  'báo chí'],\n",
       " 9: ['cơ khí',\n",
       "  'khác',\n",
       "  'vận tải đường sắt',\n",
       "  'công ty kinh doanh lữ hành',\n",
       "  'bộ phận tiền sảnh',\n",
       "  'kho vận',\n",
       "  'dịch vụ khách hàng',\n",
       "  'nhiếp ảnh',\n",
       "  'dịch vụ ăn uống',\n",
       "  'thẩm định',\n",
       "  'dịch vụ hỗ trợ khách hàng',\n",
       "  'thủy lợi',\n",
       "  'nhân viên kinh doanh',\n",
       "  'hậu cần',\n",
       "  'hoạch định',\n",
       "  'trợ lý kinh doanh',\n",
       "  'thực tập sinh',\n",
       "  'nhà hàng',\n",
       "  'dịch vụ vận tải công cộng',\n",
       "  'quy định',\n",
       "  'định giá',\n",
       "  'kho bãi',\n",
       "  'cầu đường',\n",
       "  'dịch vụ hàng không',\n",
       "  'phụ bếp',\n",
       "  'vận tải',\n",
       "  'quản trị kinh doanh',\n",
       "  'điện ảnh',\n",
       "  'dầu khí',\n",
       "  'phần mềm máy tính',\n",
       "  'vận tải đường bộ',\n",
       "  'dinh dưỡng',\n",
       "  'kinh doanh',\n",
       "  'bao tiêu',\n",
       "  'dịch vụ sinh viên',\n",
       "  'in ấn',\n",
       "  'dịch vụ',\n",
       "  'định phí bảo hiểm',\n",
       "  'phục vụ',\n",
       "  'giám thẩm định',\n",
       "  'chăm sóc khách hàng',\n",
       "  'quảng cáo',\n",
       "  'lắp ráp'],\n",
       " 19: ['pr'],\n",
       " 0: ['vận hành'],\n",
       " 5: ['ngư',\n",
       "  'sản xuất',\n",
       "  'xuất',\n",
       "  'thư ký',\n",
       "  'mạng',\n",
       "  'vận hành sản xuất',\n",
       "  'khu chế xuất',\n",
       "  'xây dựng'],\n",
       " 14: ['ngo'],\n",
       " 6: ['qa', 'y tế', 'y tá'],\n",
       " 4: ['ai'],\n",
       " 12: ['spa'],\n",
       " 18: ['ceo'],\n",
       " 8: ['b'],\n",
       " 16: ['a'],\n",
       " 13: ['ux'],\n",
       " 10: ['qc'],\n",
       " 2: ['pg'],\n",
       " 17: ['n']}"
      ]
     },
     "execution_count": 177,
     "metadata": {},
     "output_type": "execute_result"
    }
   ],
   "source": [
    "\n",
    "word_clusters = pd.read_csv('word_clusters.csv', index_col=0, header=None).to_dict()[1]\n",
    "word_clusters\n",
    "# transger word_clusters to dict of list\n",
    "cluster_dict = {}\n",
    "for k, v in word_clusters.items():\n",
    "    cluster_dict.setdefault(v, []).append(k)\n",
    "replace_dict = {}\n",
    "cluster_dict"
   ]
  },
  {
   "cell_type": "code",
   "execution_count": 178,
   "metadata": {},
   "outputs": [],
   "source": [
    "def get_replace_dict(list = [], replace_dict = {}, value = '', replace_value = ''):\n",
    "  if value in list:\n",
    "    list.remove(value)\n",
    "  if replace_value != '':\n",
    "    replace_dict[value] = replace_value\n",
    "    if not replace_value in list:\n",
    "      list.append(replace_value)"
   ]
  },
  {
   "cell_type": "code",
   "execution_count": 179,
   "metadata": {},
   "outputs": [
    {
     "data": {
      "text/plain": [
       "['vận hành']"
      ]
     },
     "execution_count": 179,
     "metadata": {},
     "output_type": "execute_result"
    }
   ],
   "source": [
    "cluster_dict[0]"
   ]
  },
  {
   "cell_type": "code",
   "execution_count": 207,
   "metadata": {},
   "outputs": [
    {
     "name": "stdout",
     "output_type": "stream",
     "text": [
      "36\n"
     ]
    },
    {
     "data": {
      "text/plain": [
       "['địa chất',\n",
       " 'phiên dịch',\n",
       " 'phi lợi nhuận',\n",
       " 'marketing',\n",
       " 'thiết kế đồ họa',\n",
       " 'an toàn lao động',\n",
       " 'điện lạnh',\n",
       " 'khách sạn',\n",
       " 'khai thác mỏ',\n",
       " 'quan hệ đối ngoại',\n",
       " 'tiếp tân',\n",
       " 'tiếp thị',\n",
       " 'điện',\n",
       " 'biên tập',\n",
       " 'điện tử',\n",
       " 'chế tạo',\n",
       " 'tài chính',\n",
       " 'ô tô',\n",
       " 'điện tử viễn thông',\n",
       " 'truyền hình',\n",
       " 'khoa học',\n",
       " 'thiết kế',\n",
       " 'logistic',\n",
       " 'làm đẹp',\n",
       " 'kiến trúc',\n",
       " 'thương mại',\n",
       " 'văn phòng',\n",
       " 'quản lý',\n",
       " 'hr',\n",
       " 'it system',\n",
       " 'it web development',\n",
       " 'giáo dục',\n",
       " 'y tế',\n",
       " 'bất động sản',\n",
       " 'it software testing',\n",
       " 'luật pháp']"
      ]
     },
     "execution_count": 207,
     "metadata": {},
     "output_type": "execute_result"
    }
   ],
   "source": [
    "print(len(cluster_dict[1]))\n",
    "cluster_dict[1]"
   ]
  },
  {
   "cell_type": "code",
   "execution_count": 206,
   "metadata": {},
   "outputs": [],
   "source": [
    "get_replace_dict(cluster_dict[1], replace_dict, 'thiết bị', '')\n",
    "get_replace_dict(cluster_dict[1], replace_dict,  'kinh doanh thương mại', 'thương mại')\n",
    "get_replace_dict(cluster_dict[1], replace_dict,   'thương mại điện tử', 'thương mại')\n",
    "get_replace_dict(cluster_dict[1], replace_dict,   'thông tin', '')\n",
    "get_replace_dict(cluster_dict[1], replace_dict,   'thống kê dữ liệu', 'văn phòng')\n",
    "get_replace_dict(cluster_dict[1], replace_dict,   'kế hoạch', 'quản lý')\n",
    "get_replace_dict(cluster_dict[1], replace_dict,   'gắn kết nhân viên', 'hr')\n",
    "get_replace_dict(cluster_dict[1], replace_dict,   'phát triển', '')\n",
    "get_replace_dict(cluster_dict[1], replace_dict,   'dịch vụ tài chính', 'tài chính')\n",
    "get_replace_dict(cluster_dict[1], replace_dict,   'system', 'it system')\n",
    "get_replace_dict(cluster_dict[1], replace_dict, 'thiết kế kiến trúc', 'kiến trúc')\n",
    "get_replace_dict(cluster_dict[1], replace_dict, 'thiết kế web', 'it web development')\n",
    "get_replace_dict(cluster_dict[1], replace_dict, 'biên', '')\n",
    "get_replace_dict(cluster_dict[1], replace_dict, 'thiết kế nội ngoại thất', 'kiến trúc')\n",
    "get_replace_dict(cluster_dict[1], replace_dict, 'đào tạo và phát triển', 'giáo dục')\n",
    "get_replace_dict(cluster_dict[1], replace_dict,  'thực tập', '')\n",
    "get_replace_dict(cluster_dict[1], replace_dict,  'chăm sóc sức khoẻ', 'y tế')\n",
    "get_replace_dict(cluster_dict[1], replace_dict,'quy hoạch', 'bất động sản')\n",
    "get_replace_dict(cluster_dict[1], replace_dict, 'biên phiên dịch', 'phiên dịch')\n",
    "get_replace_dict(cluster_dict[1], replace_dict,  'họa viên kiến trúc', 'kiến trúc')\n",
    "get_replace_dict(cluster_dict[1], replace_dict, 'thiết kế nội thất', 'kiến trúc')\n",
    "get_replace_dict(cluster_dict[1], replace_dict,  'tiếp thị trực tuyến', 'marketing')\n",
    "get_replace_dict(cluster_dict[1], replace_dict,  'software testing', 'it software testing',)\n",
    "get_replace_dict(cluster_dict[1], replace_dict,   'luật tài chính ngân hàng thương mại', 'luật pháp')\n",
    "get_replace_dict(cluster_dict[1], replace_dict,    'chăm sóc sức khỏe','y tế')\n",
    "get_replace_dict(cluster_dict[1], replace_dict, 'tiếp thị thương mại', 'tiếp thị')\n",
    "get_replace_dict(cluster_dict[1], replace_dict, 'phát triển kinh doanh', 'thương mại')\n",
    "get_replace_dict(cluster_dict[1], replace_dict, 'phát triển thị trường', 'thương mại')\n",
    "get_replace_dict(cluster_dict[1], replace_dict, 'thể lực', '')"
   ]
  },
  {
   "cell_type": "code",
   "execution_count": 208,
   "metadata": {},
   "outputs": [
    {
     "name": "stdout",
     "output_type": "stream",
     "text": [
      "1\n"
     ]
    },
    {
     "data": {
      "text/plain": [
       "['pg']"
      ]
     },
     "execution_count": 208,
     "metadata": {},
     "output_type": "execute_result"
    }
   ],
   "source": [
    "print(len(cluster_dict[2]))\n",
    "cluster_dict[2]"
   ]
  },
  {
   "cell_type": "code",
   "execution_count": 210,
   "metadata": {},
   "outputs": [],
   "source": [
    "get_replace_dict(cluster_dict[2], replace_dict, 'pg', 'người mẫu')"
   ]
  },
  {
   "cell_type": "code",
   "execution_count": 214,
   "metadata": {},
   "outputs": [
    {
     "name": "stdout",
     "output_type": "stream",
     "text": [
      "16\n"
     ]
    },
    {
     "data": {
      "text/plain": [
       "['chăn nuôi',\n",
       " 'thiết kế thời trang',\n",
       " 'xe máy',\n",
       " 'thực phẩm',\n",
       " 'kế toán',\n",
       " 'dược sĩ',\n",
       " 'kiểm toán',\n",
       " 'mỹ phẩm',\n",
       " 'dược phẩm',\n",
       " 'chỉnh sửa video',\n",
       " 'hành chính',\n",
       " 'pháp lý',\n",
       " 'bar',\n",
       " 'giáo dục',\n",
       " 'logistics',\n",
       " 'người mẫu']"
      ]
     },
     "execution_count": 214,
     "metadata": {},
     "output_type": "execute_result"
    }
   ],
   "source": [
    "print(len(cluster_dict[3]))\n",
    "cluster_dict[3]"
   ]
  },
  {
   "cell_type": "code",
   "execution_count": 223,
   "metadata": {},
   "outputs": [],
   "source": [
    "get_replace_dict(cluster_dict[3], replace_dict, 'kế toán doanh thu', 'kế toán')\n",
    "get_replace_dict(cluster_dict[3], replace_dict, 'đào tạo', 'giáo dục')\n",
    "get_replace_dict(cluster_dict[3], replace_dict, 'kế toán công nợ', 'kế toán')\n",
    "get_replace_dict(cluster_dict[3], replace_dict, 'kế toán quản trị', 'kế toán')\n",
    "get_replace_dict(cluster_dict[3], replace_dict, 'chính phủ', '')\n",
    "get_replace_dict(cluster_dict[3], replace_dict, 'chính sách', '')\n",
    "get_replace_dict(cluster_dict[3], replace_dict, 'kế toán thanh toán', 'kế toán')\n",
    "get_replace_dict(cluster_dict[3], replace_dict,  'thư ký pháp lý', 'thư kí')\n",
    "get_replace_dict(cluster_dict[3], replace_dict,  'giao nhận', 'logistics')\n",
    "get_replace_dict(cluster_dict[3], replace_dict,  'điều phối', 'logistics')\n",
    "get_replace_dict(cluster_dict[3], replace_dict, 'kế toán tổng hợp', 'kế toán')\n",
    "get_replace_dict(cluster_dict[3], replace_dict, 'kế toán tài chính', 'kế toán')\n",
    "get_replace_dict(cluster_dict[3], replace_dict, 'pb', 'người mẫu')\n",
    "get_replace_dict(cluster_dict[3], replace_dict, 'quầy bar', 'bar')\n",
    "get_replace_dict(cluster_dict[3], replace_dict, 'kế toán chi phí', 'kế toán')\n",
    "get_replace_dict(cluster_dict[3], replace_dict, 'kế toán thuế', 'kế toán')\n",
    "\n"
   ]
  },
  {
   "cell_type": "code",
   "execution_count": 219,
   "metadata": {},
   "outputs": [
    {
     "name": "stdout",
     "output_type": "stream",
     "text": [
      "1\n"
     ]
    },
    {
     "data": {
      "text/plain": [
       "['it ai']"
      ]
     },
     "execution_count": 219,
     "metadata": {},
     "output_type": "execute_result"
    }
   ],
   "source": [
    "print(len(cluster_dict[4]))\n",
    "cluster_dict[4]"
   ]
  },
  {
   "cell_type": "code",
   "execution_count": 218,
   "metadata": {},
   "outputs": [],
   "source": [
    "get_replace_dict(cluster_dict[4], replace_dict, 'ai', 'it ai')"
   ]
  },
  {
   "cell_type": "code",
   "execution_count": 227,
   "metadata": {},
   "outputs": [
    {
     "name": "stdout",
     "output_type": "stream",
     "text": [
      "6\n"
     ]
    },
    {
     "data": {
      "text/plain": [
       "['sản xuất', 'thư ký', 'mạng', 'xây dựng', 'thuỷ hải sản', 'quản lý']"
      ]
     },
     "execution_count": 227,
     "metadata": {},
     "output_type": "execute_result"
    }
   ],
   "source": [
    "print(len(cluster_dict[5]))\n",
    "cluster_dict[5]"
   ]
  },
  {
   "cell_type": "code",
   "execution_count": 226,
   "metadata": {},
   "outputs": [],
   "source": [
    "get_replace_dict(cluster_dict[5], replace_dict, 'ngư', 'thuỷ hải sản')\n",
    "get_replace_dict(cluster_dict[5], replace_dict, 'xuất', '')\n",
    "get_replace_dict(cluster_dict[5], replace_dict,  'vận hành sản xuất', 'quản lý')\n",
    "get_replace_dict(cluster_dict[5], replace_dict,   'khu chế xuất', '')"
   ]
  },
  {
   "cell_type": "code",
   "execution_count": 229,
   "metadata": {},
   "outputs": [
    {
     "name": "stdout",
     "output_type": "stream",
     "text": [
      "3\n"
     ]
    },
    {
     "data": {
      "text/plain": [
       "['qa', 'y tế', 'y tá']"
      ]
     },
     "execution_count": 229,
     "metadata": {},
     "output_type": "execute_result"
    }
   ],
   "source": [
    "print(len(cluster_dict[6]))\n",
    "cluster_dict[6]"
   ]
  },
  {
   "cell_type": "code",
   "execution_count": 235,
   "metadata": {},
   "outputs": [
    {
     "name": "stdout",
     "output_type": "stream",
     "text": [
      "16\n"
     ]
    },
    {
     "data": {
      "text/plain": [
       "['nước',\n",
       " 'môi giới',\n",
       " 'hàng hải',\n",
       " 'dệt may',\n",
       " 'quản lý',\n",
       " 'thú y',\n",
       " 'tạp vụ',\n",
       " 'ăn uống',\n",
       " 'dược phẩm',\n",
       " 'logistics',\n",
       " 'bất động sản',\n",
       " 'pháp lý',\n",
       " 'dịch vụ tài chính',\n",
       " 'du lịch',\n",
       " 'kinh doanh',\n",
       " 'nông nghiệp']"
      ]
     },
     "execution_count": 235,
     "metadata": {},
     "output_type": "execute_result"
    }
   ],
   "source": [
    "print(len(cluster_dict[7]))\n",
    "cluster_dict[7]"
   ]
  },
  {
   "cell_type": "code",
   "execution_count": 236,
   "metadata": {},
   "outputs": [],
   "source": [
    "get_replace_dict(cluster_dict[7], replace_dict, 'quản lý công nghệ thông tin', 'quản lý')\n",
    "get_replace_dict(cluster_dict[7], replace_dict,  'quản lý sản xuất', 'quản lý')\n",
    "get_replace_dict(cluster_dict[7], replace_dict,  'quản trị hiệu suất', 'quản lý')\n",
    "get_replace_dict(cluster_dict[7], replace_dict,  'quản lý khu vực', 'quản lý')\n",
    "get_replace_dict(cluster_dict[7], replace_dict,  'đồ uống', 'ăn uống')\n",
    "get_replace_dict(cluster_dict[7], replace_dict,  'quản lý thương hiệu', 'quản lý')\n",
    "get_replace_dict(cluster_dict[7], replace_dict,  'dược', 'dược phẩm')\n",
    "get_replace_dict(cluster_dict[7], replace_dict,  'quản lý đơn hàng', 'quản lý')\n",
    "get_replace_dict(cluster_dict[7], replace_dict,   'quản lý chuỗi cung ứng', 'logistics')\n",
    "get_replace_dict(cluster_dict[7], replace_dict,   'quản lý cửa hàng', 'quản lý')\n",
    "get_replace_dict(cluster_dict[7], replace_dict,    'quản lý kho', 'quản lý')\n",
    "get_replace_dict(cluster_dict[7], replace_dict,     'quản lý căn hộ', 'bất động sản')\n",
    "get_replace_dict(cluster_dict[7], replace_dict,'quản lý quan hệ khách hàng', 'quản lý')\n",
    "get_replace_dict(cluster_dict[7], replace_dict, 'quản lý f', 'quản lý')\n",
    "get_replace_dict(cluster_dict[7], replace_dict, 'quản lý thi hành pháp luật', 'pháp lý')\n",
    "get_replace_dict(cluster_dict[7], replace_dict, 'quản lý tài sản', 'dịch vụ tài chính')\n",
    "get_replace_dict(cluster_dict[7], replace_dict, 'quản lý quỹ', 'dịch vụ tài chính')\n",
    "get_replace_dict(cluster_dict[7], replace_dict,  'quản lý tài khoản khách hàng', 'dịch vụ tài chính')\n",
    "get_replace_dict(cluster_dict[7], replace_dict,'quản lý đội xe', 'quản lý')\n",
    "get_replace_dict(cluster_dict[7], replace_dict,  'quản lý điều hành', 'quản lý')\n",
    "get_replace_dict(cluster_dict[7], replace_dict,   'quản lý dự án công nghệ', 'quản lý')\n",
    "get_replace_dict(cluster_dict[7], replace_dict,   'quản lý dự án', 'quản lý')\n",
    "get_replace_dict(cluster_dict[7], replace_dict,     'quản lý giáo dục', 'quản lý')\n",
    "get_replace_dict(cluster_dict[7], replace_dict,'đại lý du lịch','du lịch')\n",
    "get_replace_dict(cluster_dict[7], replace_dict,  'quản lý cấp cao','quản lý')\n",
    "get_replace_dict(cluster_dict[7], replace_dict, 'quản lý chất lượng','quản lý')\n",
    "get_replace_dict(cluster_dict[7], replace_dict,  'quản lý sự kiện','quản lý')\n",
    "get_replace_dict(cluster_dict[7], replace_dict,   'bán sỉ','kinh doanh')\n",
    "get_replace_dict(cluster_dict[7], replace_dict, 'da giày','dệt may')\n",
    "get_replace_dict(cluster_dict[7], replace_dict, 'quản lý văn phòng','quản lý')\n",
    "get_replace_dict(cluster_dict[7], replace_dict, 'nông','nông nghiệp')"
   ]
  },
  {
   "cell_type": "code",
   "execution_count": 237,
   "metadata": {},
   "outputs": [
    {
     "name": "stdout",
     "output_type": "stream",
     "text": [
      "1\n"
     ]
    },
    {
     "data": {
      "text/plain": [
       "['b']"
      ]
     },
     "execution_count": 237,
     "metadata": {},
     "output_type": "execute_result"
    }
   ],
   "source": [
    "print(len(cluster_dict[8]))\n",
    "cluster_dict[8]"
   ]
  },
  {
   "cell_type": "code",
   "execution_count": 238,
   "metadata": {},
   "outputs": [],
   "source": [
    "get_replace_dict(cluster_dict[8], replace_dict, 'b', '')"
   ]
  },
  {
   "cell_type": "code",
   "execution_count": 247,
   "metadata": {},
   "outputs": [
    {
     "name": "stdout",
     "output_type": "stream",
     "text": [
      "29\n"
     ]
    },
    {
     "data": {
      "text/plain": [
       "['cơ khí',\n",
       " 'khác',\n",
       " 'dịch vụ khách hàng',\n",
       " 'nhiếp ảnh',\n",
       " 'thẩm định',\n",
       " 'thủy lợi',\n",
       " 'nhân viên kinh doanh',\n",
       " 'hậu cần',\n",
       " 'nhà hàng',\n",
       " 'vận tải',\n",
       " 'quản trị kinh doanh',\n",
       " 'điện ảnh',\n",
       " 'dầu khí',\n",
       " 'dinh dưỡng',\n",
       " 'kinh doanh',\n",
       " 'in ấn',\n",
       " 'dịch vụ',\n",
       " 'lắp ráp',\n",
       " 'logistics',\n",
       " 'du lịch',\n",
       " 'tiếp tân',\n",
       " 'ăn uống',\n",
       " 'quản lý',\n",
       " 'trợ lý',\n",
       " 'xây dựng',\n",
       " 'tạp vụ',\n",
       " 'marketing',\n",
       " 'it software',\n",
       " 'bảo hiểm']"
      ]
     },
     "execution_count": 247,
     "metadata": {},
     "output_type": "execute_result"
    }
   ],
   "source": [
    "print(len(cluster_dict[9]))\n",
    "cluster_dict[9]"
   ]
  },
  {
   "cell_type": "code",
   "execution_count": 248,
   "metadata": {},
   "outputs": [],
   "source": [
    "get_replace_dict(cluster_dict[9], replace_dict, 'vận tải đường sắt', 'logistics')\n",
    "get_replace_dict(cluster_dict[9], replace_dict,'công ty kinh doanh lữ hành', 'du lịch')\n",
    "get_replace_dict(cluster_dict[9], replace_dict, 'bộ phận tiền sảnh', 'tiếp tân')\n",
    "get_replace_dict(cluster_dict[9], replace_dict, 'kho vận', 'logistics')\n",
    "get_replace_dict(cluster_dict[9], replace_dict, 'dịch vụ ăn uống', 'ăn uống')\n",
    "get_replace_dict(cluster_dict[9], replace_dict, 'hoạch định', 'quản lý')\n",
    "get_replace_dict(cluster_dict[9], replace_dict,  'trợ lý kinh doanh', 'trợ lý')\n",
    "get_replace_dict(cluster_dict[9], replace_dict,  'thực tập sinh', '')\n",
    "get_replace_dict(cluster_dict[9], replace_dict,   'dịch vụ vận tải công cộng', 'logistics')\n",
    "get_replace_dict(cluster_dict[9], replace_dict,'quy định', '')\n",
    "get_replace_dict(cluster_dict[9], replace_dict, 'định giá', 'thẩm định')\n",
    "get_replace_dict(cluster_dict[9], replace_dict, 'kho bãi', 'logistics')\n",
    "get_replace_dict(cluster_dict[9], replace_dict,  'cầu đường', 'xây dựng')\n",
    "get_replace_dict(cluster_dict[9], replace_dict,  'phụ bếp', 'nhà hàng')\n",
    "get_replace_dict(cluster_dict[9], replace_dict, 'phục vụ', 'tạp vụ')\n",
    "get_replace_dict(cluster_dict[9], replace_dict,  'giám thẩm định', 'thẩm định')\n",
    "get_replace_dict(cluster_dict[9], replace_dict, 'chăm sóc khách hàng', 'dịch vụ khách hàng')\n",
    "get_replace_dict(cluster_dict[9], replace_dict, 'quảng cáo', 'marketing')\n",
    "get_replace_dict(cluster_dict[9], replace_dict, 'phần mềm máy tính', 'it software')\n",
    "get_replace_dict(cluster_dict[9], replace_dict,  'vận tải đường bộ', 'logistics')\n",
    "get_replace_dict(cluster_dict[9], replace_dict,   'bao tiêu', 'kinh doanh')\n",
    "get_replace_dict(cluster_dict[9], replace_dict,'dịch vụ sinh viên', 'dịch vụ')\n",
    "get_replace_dict(cluster_dict[9], replace_dict, 'định phí bảo hiểm', 'bảo hiểm')\n",
    "get_replace_dict(cluster_dict[9], replace_dict, 'dịch vụ hỗ trợ khách hàng', 'dịch vụ khách hàng')\n",
    "get_replace_dict(cluster_dict[9], replace_dict,  'dịch vụ hàng không', 'dịch vụ')"
   ]
  },
  {
   "cell_type": "code",
   "execution_count": 250,
   "metadata": {},
   "outputs": [
    {
     "name": "stdout",
     "output_type": "stream",
     "text": [
      "1\n"
     ]
    },
    {
     "data": {
      "text/plain": [
       "['qc']"
      ]
     },
     "execution_count": 250,
     "metadata": {},
     "output_type": "execute_result"
    }
   ],
   "source": [
    "print(len(cluster_dict[10]))\n",
    "cluster_dict[10]"
   ]
  },
  {
   "cell_type": "code",
   "execution_count": 257,
   "metadata": {},
   "outputs": [
    {
     "name": "stdout",
     "output_type": "stream",
     "text": [
      "32\n"
     ]
    },
    {
     "data": {
      "text/plain": [
       "['hóa học',\n",
       " 'kiểm soát rủi ro',\n",
       " 'it support',\n",
       " 'bảo hiểm',\n",
       " 'đấu thầu',\n",
       " 'thu hồi nợ',\n",
       " 'it phần cứng',\n",
       " 'luật xây dựng',\n",
       " 'thủy sản',\n",
       " 'báo chí',\n",
       " 'luật pháp',\n",
       " 'văn phòng',\n",
       " 'dịch vụ khách hàng',\n",
       " 'hr',\n",
       " 'ngân hàng',\n",
       " 'pháp luật',\n",
       " 'kinh doanh',\n",
       " 'môi trường',\n",
       " 'it database admin',\n",
       " 'quản lý',\n",
       " 'pháp lý',\n",
       " 'ăn uống',\n",
       " 'it helpdesk',\n",
       " 'it devops',\n",
       " 'logistics',\n",
       " 'bán hàng',\n",
       " 'lâm nghiệp']"
      ]
     },
     "execution_count": 257,
     "metadata": {},
     "output_type": "execute_result"
    }
   ],
   "source": [
    "print(len(cluster_dict[11]))\n",
    "cluster_dict[11]"
   ]
  },
  {
   "cell_type": "code",
   "execution_count": 259,
   "metadata": {},
   "outputs": [],
   "source": [
    "get_replace_dict(cluster_dict[11], replace_dict, 'luật thuế', 'luật pháp')\n",
    "get_replace_dict(cluster_dict[11], replace_dict, 'nhập liệu', 'văn phòng')\n",
    "get_replace_dict(cluster_dict[11], replace_dict, 'call center', 'dịch vụ khách hàng')\n",
    "get_replace_dict(cluster_dict[11], replace_dict,  'tuyển dụng', 'hr')\n",
    "get_replace_dict(cluster_dict[11], replace_dict, 'tín dụng', 'ngân hàng')\n",
    "get_replace_dict(cluster_dict[11], replace_dict, 'tư vấn', 'dịch vụ khách hàng')\n",
    "get_replace_dict(cluster_dict[11], replace_dict, 'trợ lý luật', 'pháp luật')\n",
    "get_replace_dict(cluster_dict[11], replace_dict,  'thu mua', 'kinh doanh')\n",
    "get_replace_dict(cluster_dict[11], replace_dict,   'bảo trì', '')\n",
    "get_replace_dict(cluster_dict[11], replace_dict, 'xử lý chất thải', 'môi trường')\n",
    "get_replace_dict(cluster_dict[11], replace_dict, 'nhân sự', 'hr')\n",
    "get_replace_dict(cluster_dict[11], replace_dict, 'chất thải', 'môi trường')\n",
    "get_replace_dict(cluster_dict[11], replace_dict,  'quản trị cơ sở dữ liệu', 'it database admin')\n",
    "get_replace_dict(cluster_dict[11], replace_dict, 'quản lý cơ sở vật chất', 'quản lý')\n",
    "get_replace_dict(cluster_dict[11], replace_dict, 'luật sở hữu trí tuệ', 'pháp lý')\n",
    "get_replace_dict(cluster_dict[11], replace_dict,  'pha chế', 'ăn uống')\n",
    "get_replace_dict(cluster_dict[11], replace_dict, 'nhân sự tổng hợp', 'hr')\n",
    "get_replace_dict(cluster_dict[11], replace_dict, 'luật', 'pháp lý')\n",
    "get_replace_dict(cluster_dict[11], replace_dict, 'đảm bảo chất lượng', '')\n",
    "get_replace_dict(cluster_dict[11], replace_dict,  'dự án', '')\n",
    "get_replace_dict(cluster_dict[11], replace_dict,   'trợ lý bán lẻ', 'trợ lý')\n",
    "get_replace_dict(cluster_dict[11], replace_dict, 'phần cứng máy tính', 'it helpdesk')\n",
    "get_replace_dict(cluster_dict[11], replace_dict,  'devops engineer', 'it devops')\n",
    "get_replace_dict(cluster_dict[11], replace_dict, 'thư ký luật', 'pháp lý')\n",
    "get_replace_dict(cluster_dict[11], replace_dict,  'kiểm soát chất lượng', '')\n",
    "get_replace_dict(cluster_dict[11], replace_dict,  'nhập khẩu', 'logistics')\n",
    "get_replace_dict(cluster_dict[11], replace_dict,   'bồi thường bảo hiểm', 'bảo hiểm')\n",
    "get_replace_dict(cluster_dict[11], replace_dict,   'quản lý tiêu chuẩn và chất lượng', 'quản lý')\n",
    "get_replace_dict(cluster_dict[11], replace_dict,  'bán lẻ','bán hàng')\n",
    "get_replace_dict(cluster_dict[11], replace_dict,'xuất nhập khẩu', 'logistics')\n",
    "get_replace_dict(cluster_dict[11], replace_dict, 'lâm', 'lâm nghiệp')"
   ]
  },
  {
   "cell_type": "code",
   "execution_count": 261,
   "metadata": {},
   "outputs": [
    {
     "name": "stdout",
     "output_type": "stream",
     "text": [
      "1\n"
     ]
    },
    {
     "data": {
      "text/plain": [
       "['spa']"
      ]
     },
     "execution_count": 261,
     "metadata": {},
     "output_type": "execute_result"
    }
   ],
   "source": [
    "print(len(cluster_dict[12]))\n",
    "cluster_dict[12]"
   ]
  },
  {
   "cell_type": "code",
   "execution_count": 262,
   "metadata": {},
   "outputs": [],
   "source": [
    "get_replace_dict(cluster_dict[12], replace_dict, 'spa', 'làm đẹp')"
   ]
  },
  {
   "cell_type": "code",
   "execution_count": 264,
   "metadata": {},
   "outputs": [
    {
     "name": "stdout",
     "output_type": "stream",
     "text": [
      "1\n"
     ]
    },
    {
     "data": {
      "text/plain": [
       "['ux']"
      ]
     },
     "execution_count": 264,
     "metadata": {},
     "output_type": "execute_result"
    }
   ],
   "source": [
    "print(len(cluster_dict[13]))\n",
    "cluster_dict[13]"
   ]
  },
  {
   "cell_type": "code",
   "execution_count": 265,
   "metadata": {},
   "outputs": [],
   "source": [
    "get_replace_dict(cluster_dict[13], replace_dict, 'ux', 'it ux')"
   ]
  },
  {
   "cell_type": "code",
   "execution_count": 266,
   "metadata": {},
   "outputs": [
    {
     "name": "stdout",
     "output_type": "stream",
     "text": [
      "1\n"
     ]
    },
    {
     "data": {
      "text/plain": [
       "['ngo']"
      ]
     },
     "execution_count": 266,
     "metadata": {},
     "output_type": "execute_result"
    }
   ],
   "source": [
    "print(len(cluster_dict[14]))\n",
    "cluster_dict[14]"
   ]
  },
  {
   "cell_type": "code",
   "execution_count": 267,
   "metadata": {},
   "outputs": [],
   "source": [
    "get_replace_dict(cluster_dict[14], replace_dict, 'ngo', 'phi chính phủ')"
   ]
  },
  {
   "cell_type": "code",
   "execution_count": 299,
   "metadata": {},
   "outputs": [
    {
     "name": "stdout",
     "output_type": "stream",
     "text": [
      "73\n"
     ]
    },
    {
     "data": {
      "text/plain": [
       "['công nghiệp',\n",
       " 'kinh doanh',\n",
       " 'quản lý',\n",
       " 'điện',\n",
       " 'media',\n",
       " 'y tế',\n",
       " 'it help desk',\n",
       " 'khách sạn',\n",
       " 'khác',\n",
       " 'it',\n",
       " 'tài chính',\n",
       " 'ô tô',\n",
       " 'in ấn',\n",
       " 'marketing',\n",
       " 'pháp lý',\n",
       " 'hr',\n",
       " 'it data analyst',\n",
       " 'thiết kế đồ hoạ',\n",
       " 'it cyber security',\n",
       " 'kế toán',\n",
       " 'thực phẩm',\n",
       " 'dịch vụ khách hàng',\n",
       " 'kiến trúc',\n",
       " 'hành chính',\n",
       " 'nhà hàng',\n",
       " 'logistics',\n",
       " 'kinh tế',\n",
       " 'it phân tích hệ thống',\n",
       " 'tạp vụ',\n",
       " 'it data engineer',\n",
       " 'tự động hoá',\n",
       " 'dược phẩm',\n",
       " 'hóa học']"
      ]
     },
     "execution_count": 299,
     "metadata": {},
     "output_type": "execute_result"
    }
   ],
   "source": [
    "print(len(cluster_dict[15]))\n",
    "cluster_dict[15][40:73]"
   ]
  },
  {
   "cell_type": "code",
   "execution_count": 297,
   "metadata": {},
   "outputs": [],
   "source": [
    "get_replace_dict(cluster_dict[15], replace_dict, 'khu công nghiệp', 'công nghiệp')\n",
    "get_replace_dict(cluster_dict[15], replace_dict, 'phân tích kinh doanh', 'kinh doanh')\n",
    "get_replace_dict(cluster_dict[15], replace_dict, 'quản lý sản xuất', 'quản lý')\n",
    "get_replace_dict(cluster_dict[15], replace_dict, 'kĩ thuật điện', 'điện')\n",
    "get_replace_dict(cluster_dict[15], replace_dict, 'sản xuất chương trình', 'media')\n",
    "get_replace_dict(cluster_dict[15], replace_dict,  'phân tích', '')\n",
    "get_replace_dict(cluster_dict[15], replace_dict,  'kỹ thuật viên y tế', 'y tế')\n",
    "get_replace_dict(cluster_dict[15], replace_dict, 'quy hoạch đô thị', 'bất động sản')\n",
    "get_replace_dict(cluster_dict[15], replace_dict, 'truyền thông', 'media') \n",
    "get_replace_dict(cluster_dict[15], replace_dict, 'cho thuê', 'kinh doanh')\n",
    "get_replace_dict(cluster_dict[15], replace_dict, 'sự nghiệp', '')\n",
    "get_replace_dict(cluster_dict[15], replace_dict, 'help desk', 'it help desk')\n",
    "get_replace_dict(cluster_dict[15], replace_dict,  'tư vấn rủi ro', 'quản lý')\n",
    "get_replace_dict(cluster_dict[15], replace_dict,  'quản trị hàng tồn kho', 'quản lý')\n",
    "get_replace_dict(cluster_dict[15], replace_dict, 'đặt phòng khách sạn','khách sạn')\n",
    "get_replace_dict(cluster_dict[15], replace_dict, 'ngành nghề khác', 'khác')\n",
    "get_replace_dict(cluster_dict[15], replace_dict,  'điều trị đa khoa', 'y tế')\n",
    "get_replace_dict(cluster_dict[15], replace_dict,  'lương cao', '')\n",
    "get_replace_dict(cluster_dict[15], replace_dict,  'lương thưởng', '')\n",
    "get_replace_dict(cluster_dict[15], replace_dict,  'kỹ thuật ứng dụng', 'it')\n",
    "get_replace_dict(cluster_dict[15], replace_dict,  'giảng dạy', 'giáo dục')\n",
    "get_replace_dict(cluster_dict[15], replace_dict,  'chuyển đổi số', 'it')\n",
    "get_replace_dict(cluster_dict[15], replace_dict,   'chứng khoán', 'tài chính')\n",
    "get_replace_dict(cluster_dict[15], replace_dict,  'kỹ thuật ô tô', 'ô tô')\n",
    "get_replace_dict(cluster_dict[15], replace_dict,  'xuất bản', 'in ấn')\n",
    "get_replace_dict(cluster_dict[15], replace_dict,  'công nghệ sinh học', 'sinh học')\n",
    "get_replace_dict(cluster_dict[15], replace_dict,  'nghiệp', '')\n",
    "get_replace_dict(cluster_dict[15], replace_dict,  'đầu tư tài chính', 'tài chính')\n",
    "get_replace_dict(cluster_dict[15], replace_dict,  'tiếp thị nội dung', 'marketing')\n",
    "get_replace_dict(cluster_dict[15], replace_dict, 'đạo diễn nghệ thuật', 'nghệ thuật')\n",
    "get_replace_dict(cluster_dict[15], replace_dict, 'bác sĩ', 'y tế')\n",
    "get_replace_dict(cluster_dict[15], replace_dict,  'phân tích thị trường', 'kinh doanh')\n",
    "get_replace_dict(cluster_dict[15], replace_dict,  'nghiên cứu học thuật', 'nghiên cứu')\n",
    "get_replace_dict(cluster_dict[15], replace_dict, 'điều trị nội trú', 'y tế')\n",
    "get_replace_dict(cluster_dict[15], replace_dict,  'tư vấn pháp lý', 'pháp lý')\n",
    "get_replace_dict(cluster_dict[15], replace_dict,  'general management', 'quản lý')\n",
    "get_replace_dict(cluster_dict[15], replace_dict,  'phúc lợi', 'hr')\n",
    "get_replace_dict(cluster_dict[15], replace_dict,   'phát triển dự án',  'quản lý')\n",
    "get_replace_dict(cluster_dict[15], replace_dict,   'data analyst',  'it data analyst')\n",
    "get_replace_dict(cluster_dict[15], replace_dict,    'nghề nghiệp khác', 'khác')\n",
    "get_replace_dict(cluster_dict[15], replace_dict, 'việc làm bán hàng', 'bán hàng')\n",
    "get_replace_dict(cluster_dict[15], replace_dict, 'hỗ trợ học viên', 'giáo dục')\n",
    "get_replace_dict(cluster_dict[15], replace_dict, 'sáng tạo nghệ thuật', 'nghệ thuật')\n",
    "get_replace_dict(cluster_dict[15], replace_dict,  'tư vấn giáo dục', 'giáo dục')\n",
    "get_replace_dict(cluster_dict[15], replace_dict,  'thiết kế công nghiệp', 'công nghiệp')\n",
    "get_replace_dict(cluster_dict[15], replace_dict,  'phát triển bất động sản', 'bất động sản')\n",
    "get_replace_dict(cluster_dict[15], replace_dict,  'ui design', 'thiết kế đồ hoạ')\n",
    "get_replace_dict(cluster_dict[15], replace_dict, 'bảo mật công nghệ thông tin', 'it cyber security')\n",
    "get_replace_dict(cluster_dict[15], replace_dict, 'giao dịch chứng khoán', 'tài chính')\n",
    "get_replace_dict(cluster_dict[15], replace_dict,  'hành chính văn phòng', 'văn phòng')\n",
    "get_replace_dict(cluster_dict[15], replace_dict,  'báo cáo tài chính', 'kế toán')\n",
    "get_replace_dict(cluster_dict[15], replace_dict, 'công nghệ thông tin','it')\n",
    "get_replace_dict(cluster_dict[15], replace_dict, 'công nghệ thực phẩm', 'thực phẩm')\n",
    "get_replace_dict(cluster_dict[15], replace_dict, 'cloud', 'it')\n",
    "get_replace_dict(cluster_dict[15], replace_dict, 'hướng khách hàng', 'dịch vụ khách hàng')\n",
    "get_replace_dict(cluster_dict[15], replace_dict,  'tk nội thất', 'kiến trúc')\n",
    "get_replace_dict(cluster_dict[15], replace_dict,  'bảo vệ', 'an ninh')\n",
    "get_replace_dict(cluster_dict[15], replace_dict,  'bảo lãnh', 'hành chính')\n",
    "get_replace_dict(cluster_dict[15], replace_dict, 'thủ tục hải quan', 'hành chính')\n",
    "get_replace_dict(cluster_dict[15], replace_dict, 'bán hàng qua điện thoại', 'telesales')\n",
    "get_replace_dict(cluster_dict[15], replace_dict,'đầu bếp', 'nhà hàng')\n",
    "get_replace_dict(cluster_dict[15], replace_dict, 'viễn thông', 'bưu chính viễn thông')\n",
    "get_replace_dict(cluster_dict[15], replace_dict,'giao nhận hàng hóa', 'logistics')\n",
    "get_replace_dict(cluster_dict[15], replace_dict, 'sinh viên mới tốt nghiệp', '')\n",
    "get_replace_dict(cluster_dict[15], replace_dict, 'tuân thủ', '')\n",
    "get_replace_dict(cluster_dict[15], replace_dict, 'điều hành', 'quản lý')\n",
    "get_replace_dict(cluster_dict[15], replace_dict,  'kỹ thuật môi trường', 'môi trường')\n",
    "get_replace_dict(cluster_dict[15], replace_dict, 'đầu tư', 'kinh tế')\n",
    "get_replace_dict(cluster_dict[15], replace_dict, 'phân tích hệ thống', 'it phân tích hệ thống')\n",
    "get_replace_dict(cluster_dict[15], replace_dict, 'phát triển sản phẩm', 'quản lý')\n",
    "get_replace_dict(cluster_dict[15], replace_dict, 'vệ sinh buồng phòng', 'tạp vụ')\n",
    "get_replace_dict(cluster_dict[15], replace_dict, 'data engineer','it data engineer')\n",
    "get_replace_dict(cluster_dict[15], replace_dict, 'kd bất động sản', 'bất động sản')\n",
    "get_replace_dict(cluster_dict[15], replace_dict, 'điều hành sản xuất', 'quản lý')\n",
    "get_replace_dict(cluster_dict[15], replace_dict, 'cơ khí tự động hoá', 'tự động hoá')\n",
    "get_replace_dict(cluster_dict[15], replace_dict,  'chuỗi cung ứng', 'logistics')\n",
    "get_replace_dict(cluster_dict[15], replace_dict,  'tiêu dùng', '')\n",
    "get_replace_dict(cluster_dict[15], replace_dict, 'vận hành máy móc', 'công nghiệp')\n",
    "get_replace_dict(cluster_dict[15], replace_dict,  'phân phối dược phẩm', 'dược phẩm')\n",
    "get_replace_dict(cluster_dict[15], replace_dict, 'quy trình', '')\n",
    "get_replace_dict(cluster_dict[15], replace_dict,  'phân tích dự án bất động sản', 'bất động sản')\n",
    "get_replace_dict(cluster_dict[15], replace_dict, 'bán hàng kỹ thuật', 'bán hàng')\n",
    "get_replace_dict(cluster_dict[15], replace_dict, 'sinh viên làm thêm', '')\n",
    "get_replace_dict(cluster_dict[15], replace_dict, 'phát triển sản phẩm may mặc', 'thời trang')\n",
    "get_replace_dict(cluster_dict[15], replace_dict,  'kỹ thuật hóa học', 'hóa học')\n",
    "get_replace_dict(cluster_dict[15], replace_dict,'vận chuyển giao nhận', 'logistics')\n",
    "get_replace_dict(cluster_dict[15], replace_dict, 'giao thông vận tải', 'logistics')\n",
    "get_replace_dict(cluster_dict[15], replace_dict,  'hướng dẫn viên du lịch', 'du lịch')"
   ]
  },
  {
   "cell_type": "code",
   "execution_count": 275,
   "metadata": {},
   "outputs": [
    {
     "name": "stdout",
     "output_type": "stream",
     "text": [
      "0\n"
     ]
    },
    {
     "data": {
      "text/plain": [
       "[]"
      ]
     },
     "execution_count": 275,
     "metadata": {},
     "output_type": "execute_result"
    }
   ],
   "source": [
    "get_replace_dict(cluster_dict[16], replace_dict, 'a', '')\n",
    "print(len(cluster_dict[16]))\n",
    "cluster_dict[16]"
   ]
  },
  {
   "cell_type": "code",
   "execution_count": 274,
   "metadata": {},
   "outputs": [
    {
     "name": "stdout",
     "output_type": "stream",
     "text": [
      "0\n"
     ]
    },
    {
     "data": {
      "text/plain": [
       "[]"
      ]
     },
     "execution_count": 274,
     "metadata": {},
     "output_type": "execute_result"
    }
   ],
   "source": [
    "get_replace_dict(cluster_dict[17], replace_dict, 'n', '')\n",
    "print(len(cluster_dict[17]))\n",
    "cluster_dict[17]"
   ]
  },
  {
   "cell_type": "code",
   "execution_count": 278,
   "metadata": {},
   "outputs": [
    {
     "name": "stdout",
     "output_type": "stream",
     "text": [
      "1\n"
     ]
    },
    {
     "data": {
      "text/plain": [
       "['quản lý']"
      ]
     },
     "execution_count": 278,
     "metadata": {},
     "output_type": "execute_result"
    }
   ],
   "source": [
    "get_replace_dict(cluster_dict[18], replace_dict, 'ceo', 'quản lý')\n",
    "print(len(cluster_dict[18]))\n",
    "cluster_dict[18]"
   ]
  },
  {
   "cell_type": "code",
   "execution_count": 300,
   "metadata": {},
   "outputs": [
    {
     "name": "stdout",
     "output_type": "stream",
     "text": [
      "1\n"
     ]
    },
    {
     "data": {
      "text/plain": [
       "['marketing']"
      ]
     },
     "execution_count": 300,
     "metadata": {},
     "output_type": "execute_result"
    }
   ],
   "source": [
    "get_replace_dict(cluster_dict[19], replace_dict, 'pr', 'marketing')\n",
    "print(len(cluster_dict[19]))\n",
    "cluster_dict[19]"
   ]
  },
  {
   "cell_type": "code",
   "execution_count": 302,
   "metadata": {},
   "outputs": [],
   "source": [
    "# write replace_dict to file with pandas\n",
    "df_replace_dict = pd.DataFrame.from_dict(replace_dict, orient='index', columns=['replace'])\n",
    "df_replace_dict.to_csv('replace_dict_1.csv', index=True, header=False)\n"
   ]
  },
  {
   "cell_type": "code",
   "execution_count": 306,
   "metadata": {},
   "outputs": [],
   "source": [
    "# get list unique category from cluster_dict\n",
    "unique_category = list(set([i for j in cluster_dict.values() for i in j]))\n",
    "#write unique_category to file with pandas\n",
    "df_unique_category = pd.DataFrame(unique_category, columns=['category'])\n",
    "df_unique_category.to_csv('processed_category.csv', index=False, header=False)\n"
   ]
  },
  {
   "cell_type": "code",
   "execution_count": 323,
   "metadata": {},
   "outputs": [],
   "source": [
    "# get list unique category from processed_category.csv\n",
    "processed_category = pd.read_csv('processed_category.csv', header=None)[0].to_list()"
   ]
  },
  {
   "cell_type": "code",
   "execution_count": 331,
   "metadata": {},
   "outputs": [
    {
     "data": {
      "text/html": [
       "<div>\n",
       "<style scoped>\n",
       "    .dataframe tbody tr th:only-of-type {\n",
       "        vertical-align: middle;\n",
       "    }\n",
       "\n",
       "    .dataframe tbody tr th {\n",
       "        vertical-align: top;\n",
       "    }\n",
       "\n",
       "    .dataframe thead th {\n",
       "        text-align: right;\n",
       "    }\n",
       "</style>\n",
       "<table border=\"1\" class=\"dataframe\">\n",
       "  <thead>\n",
       "    <tr style=\"text-align: right;\">\n",
       "      <th></th>\n",
       "      <th>category</th>\n",
       "    </tr>\n",
       "  </thead>\n",
       "  <tbody>\n",
       "    <tr>\n",
       "      <th>0</th>\n",
       "      <td>[dược phẩm, y tế]</td>\n",
       "    </tr>\n",
       "    <tr>\n",
       "      <th>1</th>\n",
       "      <td>[logistics, kinh doanh]</td>\n",
       "    </tr>\n",
       "    <tr>\n",
       "      <th>2</th>\n",
       "      <td>[quản lý, xây dựng, khoa học, kỹ thuật]</td>\n",
       "    </tr>\n",
       "    <tr>\n",
       "      <th>3</th>\n",
       "      <td>[kiểm toán, kế toán]</td>\n",
       "    </tr>\n",
       "    <tr>\n",
       "      <th>4</th>\n",
       "      <td>[quản lý, kinh doanh, dịch vụ khách hàng, bán ...</td>\n",
       "    </tr>\n",
       "    <tr>\n",
       "      <th>...</th>\n",
       "      <td>...</td>\n",
       "    </tr>\n",
       "    <tr>\n",
       "      <th>10707</th>\n",
       "      <td>[it software testing, qa, bưu chính viễn thông...</td>\n",
       "    </tr>\n",
       "    <tr>\n",
       "      <th>10708</th>\n",
       "      <td>[xây dựng, kiến trúc]</td>\n",
       "    </tr>\n",
       "    <tr>\n",
       "      <th>10709</th>\n",
       "      <td>[media, tiếp thị, marketing]</td>\n",
       "    </tr>\n",
       "    <tr>\n",
       "      <th>10710</th>\n",
       "      <td>[bán hàng, kinh doanh]</td>\n",
       "    </tr>\n",
       "    <tr>\n",
       "      <th>10711</th>\n",
       "      <td>[it, bưu chính viễn thông, it software]</td>\n",
       "    </tr>\n",
       "  </tbody>\n",
       "</table>\n",
       "<p>10712 rows × 1 columns</p>\n",
       "</div>"
      ],
      "text/plain": [
       "                                                category\n",
       "0                                      [dược phẩm, y tế]\n",
       "1                                [logistics, kinh doanh]\n",
       "2                [quản lý, xây dựng, khoa học, kỹ thuật]\n",
       "3                                   [kiểm toán, kế toán]\n",
       "4      [quản lý, kinh doanh, dịch vụ khách hàng, bán ...\n",
       "...                                                  ...\n",
       "10707  [it software testing, qa, bưu chính viễn thông...\n",
       "10708                              [xây dựng, kiến trúc]\n",
       "10709                       [media, tiếp thị, marketing]\n",
       "10710                             [bán hàng, kinh doanh]\n",
       "10711            [it, bưu chính viễn thông, it software]\n",
       "\n",
       "[10712 rows x 1 columns]"
      ]
     },
     "execution_count": 331,
     "metadata": {},
     "output_type": "execute_result"
    }
   ],
   "source": [
    "df_raw['category'] = df_raw['category'] \\\n",
    "  .apply(lambda x: [replace_dict[i] if replace_dict.get(i) else i for i in x]) \\\n",
    "  .apply(lambda x: list(set(x))) \\\n",
    "  .apply(lambda x: [i for i in x if i in processed_category])\n",
    "df_raw"
   ]
  },
  {
   "cell_type": "code",
   "execution_count": 336,
   "metadata": {},
   "outputs": [],
   "source": [
    "# get file full.jsonl and reaplace category\n",
    "df_normalize_category = pd.read_json('../full.jsonl', lines=True)\n",
    "df_normalize_category['category'] = df_raw['category']\n",
    "df_normalize_category\n",
    "# save file full_normalize_category.jsonl\n",
    "df_normalize_category.to_json('full_normalize_category.jsonl', orient='records', lines=True)"
   ]
  },
  {
   "cell_type": "code",
   "execution_count": 341,
   "metadata": {},
   "outputs": [],
   "source": [
    "# filter record have category which start with 'it'\n",
    "df_it_job_index = df_normalize_category['category'].apply(lambda x: any([i.startswith('it ') for i in x]))\n",
    "df_it_job_index = df_normalize_category[df_it_job_index]\n",
    "df_it_job_index\n",
    "# save file it_job.jsonl\n",
    "df_it_job_index.to_json('it_job.jsonl', orient='records', lines=True)"
   ]
  }
 ],
 "metadata": {
  "kernelspec": {
   "display_name": "venv",
   "language": "python",
   "name": "python3"
  },
  "language_info": {
   "codemirror_mode": {
    "name": "ipython",
    "version": 3
   },
   "file_extension": ".py",
   "mimetype": "text/x-python",
   "name": "python",
   "nbconvert_exporter": "python",
   "pygments_lexer": "ipython3",
   "version": "3.10.6"
  }
 },
 "nbformat": 4,
 "nbformat_minor": 2
}
